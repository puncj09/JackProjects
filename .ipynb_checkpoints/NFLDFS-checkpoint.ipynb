{
 "cells": [
  {
   "cell_type": "markdown",
   "metadata": {},
   "source": [
    "# NFL DFS Player Projection and Salary Data"
   ]
  },
  {
   "cell_type": "markdown",
   "metadata": {},
   "source": [
    "This program reads in player projections (downloaded to my computer from FantasyPros.com) and combines with player salary data. The data is cleaned and formatted so that I can use it in Excel. In Excel, I use Solver to produce one optimal lineup for use in Daily Fantasy contests. A lineup created from my optimizer would be similar to 1 lineup in proprietary optimizers. However, those optimizers are capable of much more than this optimizer. In the future, I hope to be able to use integer programming to produce \"N\" optimal lineups - I also want to add variables such as player ownership."
   ]
  },
  {
   "cell_type": "code",
   "execution_count": 1,
   "metadata": {},
   "outputs": [],
   "source": [
    "# Store filenames as variables\n",
    "week = 9\n",
    "qbFile = \"QBWeek9.csv\"\n",
    "rbFile = \"RBWeek9.csv\"\n",
    "wrFile = \"WRWeek9.csv\"\n",
    "teFile = \"TEWeek9.csv\"\n",
    "dFile = \"DefWeek9.csv\"\n",
    "dkFile = \"DKSalariesWeek9.csv\""
   ]
  },
  {
   "cell_type": "markdown",
   "metadata": {},
   "source": [
    "## Read in DraftKings player pool and salaries"
   ]
  },
  {
   "cell_type": "code",
   "execution_count": 2,
   "metadata": {},
   "outputs": [],
   "source": [
    "import csv\n",
    "import pandas as pd\n",
    "import re\n",
    "\n",
    "def load_DK(filename):\n",
    "    \"\"\"\n",
    "    This function reads in a .csv file with DraftKings salary info data\n",
    "    \"\"\"\n",
    "    salaries = pd.read_csv(filename)\n",
    "    salaries = salaries[[\"Position\", \"Name\", \"ID\", \"Salary\", \"TeamAbbrev\", \"Game Info\"]]\n",
    "    \n",
    "    # Gets opponent and stores in new variable\n",
    "    game = salaries[\"Game Info\"]\n",
    "    gameSpl = game.str.split(\" \") # splits each string by space\n",
    "    teams = [] # list of games \"CAR@TB\"\n",
    "    for g in range(len(gameSpl)): # loops over each split string and stores first element (game)\n",
    "        teams.append((gameSpl[g][0]))\n",
    "        \n",
    "    df = pd.Series(teams) # convert to series\n",
    "    df = df.str.split(\"@\") # split teams by '@'\n",
    "    away = []\n",
    "    home = []\n",
    "    for a in range(len(df)):\n",
    "        away.append((df[a][0]))\n",
    "        home.append((df[a][1]))\n",
    "    \n",
    "    # Add away and home team to \"salaries\"\n",
    "    salaries = salaries.assign(Away = away, Home = home)\n",
    "    salaries.drop(['Game Info'], axis=1, inplace=True) \n",
    "    \n",
    "    #pd.set_option(\"display.max_rows\", None, \"display.max_columns\", None)\n",
    "    return(salaries)"
   ]
  },
  {
   "cell_type": "markdown",
   "metadata": {},
   "source": [
    "## Read in FantasyPros projections"
   ]
  },
  {
   "cell_type": "code",
   "execution_count": 3,
   "metadata": {},
   "outputs": [],
   "source": [
    "def load_projections(QB, RB, WR, TE, Def):\n",
    "    # Reads .csv for each position's FP projections (PPR, max/min/median projections)\n",
    "    QB = pd.read_csv(QB)\n",
    "    RB = pd.read_csv(RB)\n",
    "    WR = pd.read_csv(WR)\n",
    "    TE = pd.read_csv(TE)\n",
    "    Def = pd.read_csv(Def)\n",
    "    \n",
    "    # Removes 2nd row and drops unnecessary columns \n",
    "    QB = QB.drop(0)[[\"Player\", \"Team\", \"FPTS\"]]\n",
    "    RB = RB.drop(0)[[\"Player\", \"Team\", \"FPTS\"]]\n",
    "    WR = WR.drop(0)[[\"Player\", \"Team\", \"FPTS\"]]\n",
    "    TE = TE.drop(0)[[\"Player\", \"Team\", \"FPTS\"]]\n",
    "    Def = Def[[\"Player\", \"Team\", \"FPTS\"]]\n",
    "    \n",
    "    # Adds \"Position\" column\n",
    "    QB[\"Position\"] = \"QB\"\n",
    "    RB[\"Position\"] = \"RB\"\n",
    "    WR[\"Position\"] = \"WR\"\n",
    "    TE[\"Position\"] = \"TE\"\n",
    "    Def[\"Position\"] = \"D/ST\"\n",
    " \n",
    "    # Combines all positions into 1 DF\n",
    "    all_pos = pd.concat([QB, RB, WR, TE, Def], axis=0, ignore_index = True)\n",
    "    \n",
    "    # placeholder vectors for floor and ceiling projected points by player\n",
    "    floor = all_pos[\"FPTS\"][2::3] # gets every 3rd value starting at 3rd row (low)\n",
    "    ceiling = all_pos[\"FPTS\"][1::3] # gets every 3rd value starting at 2nd row\n",
    "   \n",
    "    # gets rid of messy 2nd and 3rd rows for each player (includes every 3rd row, starting with row 1)\n",
    "    all_pos = all_pos[::3]\n",
    "    \n",
    "    # adds floor and ceiling vectors into all_pos DF\n",
    "    all_pos = all_pos.set_index(floor.index)\n",
    "    all_pos[\"Floor\"] = floor\n",
    "    all_pos = all_pos.set_index(ceiling.index)\n",
    "    all_pos[\"Ceiling\"] = ceiling\n",
    "    \n",
    "    # rename \"FPTS\" to \"Median\" and Re-order columns\n",
    "    all_pos = all_pos.rename(columns={\"FPTS\" : \"Median\"})\n",
    "    all_pos = all_pos[[\"Player\", \"Team\", \"Position\", \"Floor\", \"Median\", \"Ceiling\"]]\n",
    "    \n",
    "    # Reset index of data frame\n",
    "    all_pos = all_pos.reset_index(drop=True)\n",
    "    \n",
    "    # display all players\n",
    "    pd.set_option(\"display.max_rows\", None, \"display.max_columns\", None)\n",
    "    return(all_pos)"
   ]
  },
  {
   "cell_type": "markdown",
   "metadata": {},
   "source": [
    "## Name matching between sites"
   ]
  },
  {
   "cell_type": "markdown",
   "metadata": {},
   "source": [
    "The following code creates a function that takes in 2 string vectors (Player names from DraftKings and player names from FP Projections) and matches them. This finds any tiny differences between the sites naming conventions. For example, Will Fuller and Will Fuller V are the same person. I want to assign an ID to each name so that in the future I can match on ID. "
   ]
  },
  {
   "cell_type": "code",
   "execution_count": 4,
   "metadata": {},
   "outputs": [
    {
     "name": "stderr",
     "output_type": "stream",
     "text": [
      "C:\\Users\\punco\\anaconda3\\lib\\site-packages\\fuzzywuzzy\\fuzz.py:11: UserWarning: Using slow pure-python SequenceMatcher. Install python-Levenshtein to remove this warning\n",
      "  warnings.warn('Using slow pure-python SequenceMatcher. Install python-Levenshtein to remove this warning')\n"
     ]
    }
   ],
   "source": [
    "from fuzzywuzzy import fuzz # import fuzzy string matching library\n",
    "\n",
    "names_DK = load_DK(dkFile)[\"Name\"]\n",
    "names_FP = load_projections(qbFile, rbFile, wrFile, teFile, dFile)[\"Player\"]\n",
    "\n",
    "def name_match(vector1, vector2, ratio=89):\n",
    "    index = 0\n",
    "    d = ()\n",
    "    ell = []\n",
    "    for a in vector1: \n",
    "        for b in vector2:\n",
    "            if fuzz.ratio(a.lower(), b.lower()) > ratio:\n",
    "                d = (index, a, b) \n",
    "                index += 1\n",
    "                ell.append((d))\n",
    "    \n",
    "    # convert to data frame\n",
    "    df = pd.DataFrame(ell, columns=[\"Index\", \"DK Name\", \"FP Name\"])\n",
    "    return(df)\n",
    "    \n",
    "df_Names = name_match(names_DK, names_FP)"
   ]
  },
  {
   "cell_type": "markdown",
   "metadata": {},
   "source": [
    "## Merge Salary and FP Projection data on this new Index"
   ]
  },
  {
   "cell_type": "code",
   "execution_count": 5,
   "metadata": {},
   "outputs": [],
   "source": [
    "# Add indexes to both data frames\n",
    "# adding to salary data\n",
    "new = load_DK(dkFile)\n",
    "salary_DF = pd.merge(new, df_Names, left_on=\"Name\" , right_on=\"DK Name\")\n",
    "salary_DF.drop(['DK Name', 'FP Name'], axis=1, inplace=True)\n",
    "\n",
    "# adding to FP data frame\n",
    "new2 = load_projections(qbFile, rbFile, wrFile, teFile, dFile)\n",
    "FP_DF = pd.merge(new2, df_Names, left_on=\"Player\", right_on=\"FP Name\")\n",
    "FP_DF.drop(['DK Name', 'FP Name'], axis=1, inplace=True)\n",
    "\n",
    "# Merge salary data with projection data on \"Index\"\n",
    "sal_proj = pd.merge(FP_DF, salary_DF, on = [\"Index\", \"Position\"])\n",
    "sal_proj = sal_proj.drop_duplicates(subset=['ID']) # Removes all those Chris Thompson's\n",
    "\n",
    "# Getting rid of duplicate columns, keeping Draftkings columns \"Name\" and \"TeamAbbrev\"\n",
    "sal_proj.drop(['Player', 'Team'], axis=1, inplace=True)\n",
    "\n",
    "# Drop low projected players\n",
    "sal_proj = sal_proj[sal_proj['Ceiling'] >= 5]"
   ]
  },
  {
   "cell_type": "markdown",
   "metadata": {},
   "source": [
    "# Cleaning the Defense data"
   ]
  },
  {
   "cell_type": "code",
   "execution_count": 6,
   "metadata": {},
   "outputs": [
    {
     "name": "stdout",
     "output_type": "stream",
     "text": [
      "  Position  Floor  Median  Ceiling  Index                Name        ID  \\\n",
      "0     D/ST    6.9     8.9     10.6   1000           Steelers   15714181   \n",
      "1     D/ST    5.7     6.2      7.7   1001             Chiefs   15714182   \n",
      "2     D/ST    5.3     6.2      7.0   1002             Ravens   15714183   \n",
      "3     D/ST    6.4     7.3      9.2   1003  WAS Football Team   15714184   \n",
      "4     D/ST    6.4     6.5      7.4   1004              Colts   15714185   \n",
      "5     D/ST    4.0     6.1      9.8   1005              Bears   15714186   \n",
      "6     D/ST    6.0     6.5      7.8   1006             Texans   15714187   \n",
      "7     D/ST    5.2     5.4      6.2   1007           Chargers   15714188   \n",
      "8     D/ST    6.2     5.8      7.2   1008             Titans   15714189   \n",
      "9     D/ST    6.3     6.3      6.9   1009          Cardinals   15714190   \n",
      "\n",
      "   Salary TeamAbbrev Away Home  \n",
      "0    4900        PIT  PIT  DAL  \n",
      "1    3700         KC  CAR   KC  \n",
      "2    3500        BAL  BAL  IND  \n",
      "3    3400        WAS  NYG  WAS  \n",
      "4    3300        IND  BAL  IND  \n",
      "5    3200        CHI  CHI  TEN  \n",
      "6    3100        HOU  HOU  JAX  \n",
      "7    3000        LAC   LV  LAC  \n",
      "8    3000        TEN  CHI  TEN  \n",
      "9    2900        ARI  MIA  ARI  \n"
     ]
    }
   ],
   "source": [
    "projections = load_projections(qbFile, rbFile, wrFile, teFile, dFile)\n",
    "salaries = load_DK(dkFile)\n",
    "a = salaries[salaries.Position==\"DST\"][\"Name\"]\n",
    "b = projections[projections.Position==\"D/ST\"][\"Player\"]\n",
    "\n",
    "# Get nickname from projections\n",
    "blist = []\n",
    "for i in b:\n",
    "    c = i.strip() # remove whitespace\n",
    "    c = c.split()\n",
    "    blist.append(c[-1])\n",
    "\n",
    "# add nickname to projections\n",
    "proj = projections.loc[projections.Position==\"D/ST\"].copy()\n",
    "proj[\"Nickname\"] = blist\n",
    "\n",
    "# data frame: salaries for D/ST\n",
    "salariesD = salaries.loc[salaries.Position==\"DST\"].copy()\n",
    "\n",
    "# Remove whitespace from salaries' names\n",
    "alist = []\n",
    "for i in a:\n",
    "    stripped = i.strip()\n",
    "    alist.append(stripped)\n",
    "\n",
    "# Add name back to salaries\n",
    "salariesD[\"StripName\"] = alist\n",
    "\n",
    "# Change WAS Football Team\n",
    "proj.loc[proj[\"Nickname\"] == 'Team', \"Nickname\"] = \"Washington\"\n",
    "salariesD.loc[salariesD[\"StripName\"] == \"WAS Football Team\", \"StripName\"] = \"Washington\"\n",
    "\n",
    "# Merge on StripName and Nickname (salariesD, proj)\n",
    "sal_proj_D = pd.merge(salariesD, proj, how = \"left\", left_on=\"StripName\", right_on=\"Nickname\")\n",
    "\n",
    "# Add index column\n",
    "x = range(1000, len(sal_proj_D)+1000)\n",
    "sal_proj_D[\"Index\"] = x\n",
    "\n",
    "# Remove unnecessary columns and re-order\n",
    "sal_proj_D.drop([\"Position_x\", \"StripName\", \"Player\", \"Team\", \"Nickname\"], axis=1, inplace=True)\n",
    "sal_proj_D = sal_proj_D[[\"Position_y\", \"Floor\", \"Median\", \"Ceiling\", \"Index\", \"Name\", \"ID\", \"Salary\", \"TeamAbbrev\",\n",
    "                       \"Away\", \"Home\"]]\n",
    "sal_proj_D.rename(columns={'Position_y':'Position'}, inplace=True)\n",
    "\n",
    "print(sal_proj_D.head(10)) # Prints top 10 projected defenses for week 9  "
   ]
  },
  {
   "cell_type": "markdown",
   "metadata": {},
   "source": [
    "## Put it all together"
   ]
  },
  {
   "cell_type": "code",
   "execution_count": 7,
   "metadata": {},
   "outputs": [
    {
     "name": "stdout",
     "output_type": "stream",
     "text": [
      "  Position  Floor  Median  Ceiling  Index             Name        ID  Salary  \\\n",
      "0       QB   21.2    23.7     29.7      3  Patrick Mahomes  15713425    8100   \n",
      "1       QB   20.1    23.2     29.6      7   Russell Wilson  15713427    7600   \n",
      "2       QB   21.6    23.2     28.9      6     Kyler Murray  15713426    7800   \n",
      "3       QB   20.4    22.2     25.6     12   Deshaun Watson  15713428    7100   \n",
      "4       QB   20.8    22.1     25.8     14       Josh Allen  15713429    7000   \n",
      "\n",
      "  TeamAbbrev Away Home  \n",
      "0         KC  CAR   KC  \n",
      "1        SEA  SEA  BUF  \n",
      "2        ARI  MIA  ARI  \n",
      "3        HOU  HOU  JAX  \n",
      "4        BUF  SEA  BUF  \n"
     ]
    }
   ],
   "source": [
    "# Load DK Salaries and Fantasy Pros projections\n",
    "salaries = load_DK(dkFile)\n",
    "projections = load_projections(qbFile, rbFile, wrFile, teFile, dFile)\n",
    "\n",
    "# Store player names from DK and FP in separate vectors\n",
    "names_DK = salaries[\"Name\"]\n",
    "names_FP = projections[\"Player\"]\n",
    "\n",
    "# Run name match function to assign index to players\n",
    "df_Names = name_match(names_DK, names_FP)\n",
    "\n",
    "# Merge names with salary data frame\n",
    "salaries = pd.merge(salaries, df_Names, left_on=\"Name\" , right_on=\"DK Name\")\n",
    "salaries.drop(['DK Name', 'FP Name'], axis=1, inplace=True)\n",
    "\n",
    "# Merge names with projections data frame\n",
    "projections = pd.merge(projections, df_Names, left_on=\"Player\", right_on=\"FP Name\")\n",
    "projections.drop(['DK Name', 'FP Name'], axis=1, inplace=True)\n",
    "\n",
    "# Merge salaries and projections on the new \"index\" value\n",
    "sal_proj = pd.merge(projections, salaries, on = [\"Index\", \"Position\"])\n",
    "sal_proj = sal_proj.drop_duplicates(subset=['ID']) # Removes all those Chris Thompson's\n",
    "\n",
    "# Getting rid of duplicate columns, keeping Draftkings columns \"Name\" and \"TeamAbbrev\"\n",
    "sal_proj.drop(['Player', 'Team'], axis=1, inplace=True)\n",
    "\n",
    "# Add defense to end of data frame\n",
    "sal_proj  = sal_proj.append(sal_proj_D)\n",
    "\n",
    "# Drop low projected players\n",
    "sal_proj = sal_proj[sal_proj['Median'] >= 5]\n",
    "\n",
    "print(sal_proj.head(5))"
   ]
  },
  {
   "cell_type": "markdown",
   "metadata": {},
   "source": [
    "# Write to .csv"
   ]
  },
  {
   "cell_type": "code",
   "execution_count": 8,
   "metadata": {},
   "outputs": [],
   "source": [
    "sal_proj.to_csv(r'C:\\Users\\punco\\OneDrive\\Desktop\\JackProjects\\Week9.csv', index = False)"
   ]
  },
  {
   "cell_type": "markdown",
   "metadata": {},
   "source": [
    "From here, I can use excel solver to produce 1 optimal lineup with Draft Kings constraints, or I could write a program in Python that produces the n most optimal lineups."
   ]
  }
 ],
 "metadata": {
  "kernelspec": {
   "display_name": "Python 3",
   "language": "python",
   "name": "python3"
  },
  "language_info": {
   "codemirror_mode": {
    "name": "ipython",
    "version": 3
   },
   "file_extension": ".py",
   "mimetype": "text/x-python",
   "name": "python",
   "nbconvert_exporter": "python",
   "pygments_lexer": "ipython3",
   "version": "3.8.3"
  }
 },
 "nbformat": 4,
 "nbformat_minor": 4
}
